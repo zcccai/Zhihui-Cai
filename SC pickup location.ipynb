{
 "cells": [
  {
   "cell_type": "code",
   "execution_count": 19,
   "id": "6760a152-6c7e-4032-a64d-03833ea4fcbe",
   "metadata": {},
   "outputs": [
    {
     "name": "stdout",
     "output_type": "stream",
     "text": [
      "Requirement already satisfied: googlemaps in c:\\users\\17069\\anaconda3\\lib\\site-packages (4.10.0)\n",
      "Requirement already satisfied: requests<3.0,>=2.20.0 in c:\\users\\17069\\anaconda3\\lib\\site-packages (from googlemaps) (2.32.2)\n",
      "Requirement already satisfied: charset-normalizer<4,>=2 in c:\\users\\17069\\anaconda3\\lib\\site-packages (from requests<3.0,>=2.20.0->googlemaps) (2.0.4)\n",
      "Requirement already satisfied: idna<4,>=2.5 in c:\\users\\17069\\anaconda3\\lib\\site-packages (from requests<3.0,>=2.20.0->googlemaps) (3.7)\n",
      "Requirement already satisfied: urllib3<3,>=1.21.1 in c:\\users\\17069\\anaconda3\\lib\\site-packages (from requests<3.0,>=2.20.0->googlemaps) (2.2.2)\n",
      "Requirement already satisfied: certifi>=2017.4.17 in c:\\users\\17069\\anaconda3\\lib\\site-packages (from requests<3.0,>=2.20.0->googlemaps) (2024.8.30)\n",
      "Requirement already satisfied: polyline in c:\\users\\17069\\anaconda3\\lib\\site-packages (2.0.2)\n",
      "Requirement already satisfied: folium in c:\\users\\17069\\anaconda3\\lib\\site-packages (0.19.4)\n",
      "Requirement already satisfied: branca>=0.6.0 in c:\\users\\17069\\anaconda3\\lib\\site-packages (from folium) (0.8.1)\n",
      "Requirement already satisfied: jinja2>=2.9 in c:\\users\\17069\\anaconda3\\lib\\site-packages (from folium) (3.1.4)\n",
      "Requirement already satisfied: numpy in c:\\users\\17069\\anaconda3\\lib\\site-packages (from folium) (1.26.4)\n",
      "Requirement already satisfied: requests in c:\\users\\17069\\anaconda3\\lib\\site-packages (from folium) (2.32.2)\n",
      "Requirement already satisfied: xyzservices in c:\\users\\17069\\anaconda3\\lib\\site-packages (from folium) (2022.9.0)\n",
      "Requirement already satisfied: MarkupSafe>=2.0 in c:\\users\\17069\\anaconda3\\lib\\site-packages (from jinja2>=2.9->folium) (2.1.3)\n",
      "Requirement already satisfied: charset-normalizer<4,>=2 in c:\\users\\17069\\anaconda3\\lib\\site-packages (from requests->folium) (2.0.4)\n",
      "Requirement already satisfied: idna<4,>=2.5 in c:\\users\\17069\\anaconda3\\lib\\site-packages (from requests->folium) (3.7)\n",
      "Requirement already satisfied: urllib3<3,>=1.21.1 in c:\\users\\17069\\anaconda3\\lib\\site-packages (from requests->folium) (2.2.2)\n",
      "Requirement already satisfied: certifi>=2017.4.17 in c:\\users\\17069\\anaconda3\\lib\\site-packages (from requests->folium) (2024.8.30)\n"
     ]
    }
   ],
   "source": [
    "!pip install googlemaps\n",
    "!pip install polyline\n",
    "!pip install folium\n",
    "\n",
    "import pandas as pd\n",
    "import math\n",
    "import scipy.optimize as opt\n",
    "from geopy.geocoders import GoogleV3\n",
    "import googlemaps\n",
    "import polyline\n",
    "import folium\n",
    "\n",
    "api_key = ''\n",
    "\n",
    "# Initialize the Google Maps geolocator and client\n",
    "geolocator = GoogleV3(api_key=api_key)\n",
    "gmaps = googlemaps.Client(key=api_key)"
   ]
  },
  {
   "cell_type": "code",
   "execution_count": 3,
   "id": "8ee0aed8-359c-472d-b68f-5f73734eeb35",
   "metadata": {},
   "outputs": [
    {
     "name": "stdout",
     "output_type": "stream",
     "text": [
      "             Neighborhood  Population   Latitude  Longitude\n",
      "0                 Midtown       16569  33.781656 -84.384071\n",
      "1                Downtown       13411  33.763819 -84.385607\n",
      "2         Old Fourth Ward       10505  33.764108 -84.371763\n",
      "3          North Buckhead        8270  33.877277 -84.366380\n",
      "4              Pine Hills        8033  33.563652 -84.259534\n",
      "5  Morningside/Lenox Park        8030  33.805429 -84.356930\n",
      "6       Virginia-Highland        7800  33.782656 -84.353691\n",
      "7              Grant Park        6771  33.735862 -84.370932\n",
      "8            Georgia Tech        6607  33.776095 -84.398808\n",
      "9                Kirkwood        5897  33.752427 -84.323154\n"
     ]
    }
   ],
   "source": [
    "from geopy.geocoders import Nominatim\n",
    "import time\n",
    "\n",
    "geolocator = Nominatim(user_agent=\"atlanta_locator\")\n",
    "\n",
    "latitudes = []\n",
    "longitudes = []\n",
    "\n",
    "for neighborhood in df['Neighborhood']:\n",
    "    location = geolocator.geocode(f\"{neighborhood}, Atlanta, GA\")\n",
    "    if location:\n",
    "        latitudes.append(location.latitude)\n",
    "        longitudes.append(location.longitude)\n",
    "    else:\n",
    "        latitudes.append(None)\n",
    "        longitudes.append(None)\n",
    "    time.sleep(1) \n",
    "\n",
    "df['Latitude'] = latitudes\n",
    "df['Longitude'] = longitudes\n",
    "\n",
    "print(df)\n"
   ]
  },
  {
   "cell_type": "code",
   "execution_count": 21,
   "id": "8a7d26ca-3b9a-4811-bc52-2d82869470bc",
   "metadata": {},
   "outputs": [
    {
     "name": "stdout",
     "output_type": "stream",
     "text": [
      "                              Location      Lat      Lng\n",
      "0                 Midtown, Atlanta, GA  33.7833 -84.3831\n",
      "1                Downtown, Atlanta, GA  33.7557 -84.3884\n",
      "2         Old Fourth Ward, Atlanta, GA  33.7640 -84.3720\n",
      "3          North Buckhead, Atlanta, GA  33.8527 -84.3654\n",
      "4              Pine Hills, Atlanta, GA  33.8375 -84.3516\n",
      "5  Morningside/Lenox Park, Atlanta, GA  33.7962 -84.3595\n",
      "6       Virginia-Highland, Atlanta, GA  33.7817 -84.3635\n",
      "7              Grant Park, Atlanta, GA  33.7372 -84.3682\n",
      "8            Georgia Tech, Atlanta, GA  33.7756 -84.3963\n",
      "9                Kirkwood, Atlanta, GA  33.7533 -84.3262\n"
     ]
    }
   ],
   "source": [
    "# Create DataFrame with neighborhood names\n",
    "data = {\n",
    "    'Location': [\n",
    "        'Midtown, Atlanta, GA', \n",
    "        'Downtown, Atlanta, GA', \n",
    "        'Old Fourth Ward, Atlanta, GA',\n",
    "        'North Buckhead, Atlanta, GA', \n",
    "        'Pine Hills, Atlanta, GA', \n",
    "        'Morningside/Lenox Park, Atlanta, GA', \n",
    "        'Virginia-Highland, Atlanta, GA', \n",
    "        'Grant Park, Atlanta, GA', \n",
    "        'Georgia Tech, Atlanta, GA', \n",
    "        'Kirkwood, Atlanta, GA'\n",
    "    ]\n",
    "}\n",
    "\n",
    "df = pd.DataFrame(data)\n",
    "# Function to get geocode for a location\n",
    "def get_geocode(location):\n",
    "    coords = geolocator.geocode(location)\n",
    "    lat = round(coords.latitude, 4)\n",
    "    lng = round(coords.longitude, 4)\n",
    "    return lat, lng\n",
    "\n",
    "# Get geocodes for each neighborhood\n",
    "df[['Lat', 'Lng']] = df['Location'].apply(lambda x: pd.Series(get_geocode(x)))\n",
    "\n",
    "# Display the DataFrame with coordinates\n",
    "print(df)\n"
   ]
  },
  {
   "cell_type": "code",
   "execution_count": 23,
   "id": "de64088b-735d-4290-8141-385949394e94",
   "metadata": {},
   "outputs": [
    {
     "name": "stdout",
     "output_type": "stream",
     "text": [
      "Haversine Optimal Pickup Location: 515 8th St NE, Atlanta, GA 30308, USA at coordinates [ 33.7793 -84.3702]\n"
     ]
    }
   ],
   "source": [
    "# Great circle (Haversine) distance function\n",
    "def calc_dist_haversine(lat1, lng1, lat2, lng2):\n",
    "    lat1, lng1, lat2, lng2 = map(math.radians, [lat1, lng1, lat2, lng2])\n",
    "    a = math.sin((lat2 - lat1) / 2) ** 2 + math.cos(lat1) * math.cos(lat2) * math.sin((lng2 - lng1) / 2) ** 2\n",
    "    dist_haversine_miles = 3959 * 2 * math.atan2(math.sqrt(a), math.sqrt(1 - a))\n",
    "    return dist_haversine_miles\n",
    "# Function to calculate total Haversine distance from a point to all neighborhoods\n",
    "def calc_cost_haversine(coords, data):\n",
    "    lat, lon = coords\n",
    "    distances = []\n",
    "    for _, row in data.iterrows():\n",
    "        distances.append(calc_dist_haversine(lat, lon, row['Lat'], row['Lng']))\n",
    "    return sum(distances)\n",
    "\n",
    "# Initial guess (center of all neighborhoods)\n",
    "initial_guess = [df['Lat'].mean(), df['Lng'].mean()]\n",
    "\n",
    "# Optimize to find the minimum total Haversine distance\n",
    "result = opt.minimize(calc_cost_haversine, initial_guess, args=(df,), method='SLSQP')\n",
    "\n",
    "# Get the optimal location address\n",
    "result_address = gmaps.reverse_geocode((result.x[0], result.x[1]))[0]['formatted_address']\n",
    "\n",
    "print(f\"Haversine Optimal Pickup Location: {result_address} at coordinates {result.x.round(4)}\")\n"
   ]
  },
  {
   "cell_type": "code",
   "execution_count": 25,
   "id": "a5fece59-5560-4bdd-abfd-770612bca3f7",
   "metadata": {},
   "outputs": [
    {
     "name": "stdout",
     "output_type": "stream",
     "text": [
      "Driving Optimal Pickup Location: 600 Cresthill Ave NE, Atlanta, GA 30306, USA at coordinates [ 33.7837 -84.3674]\n"
     ]
    }
   ],
   "source": [
    "# Function to calculate driving distance using Google Maps Directions API\n",
    "def calc_dist_driving(lat1, lng1, lat2, lng2):\n",
    "    directions = gmaps.directions((lat1, lng1), (lat2, lng2), mode='driving')\n",
    "    dist_miles = directions[0]['legs'][0]['distance']['value'] / 1609.344  # Convert meters to miles\n",
    "    return dist_miles\n",
    "# Function to calculate total driving distance from a point to all neighborhoods\n",
    "def calc_cost_driving(coords, data):\n",
    "    lat, lon = coords\n",
    "    distances = []\n",
    "    for _, row in data.iterrows():\n",
    "        distances.append(calc_dist_driving(lat, lon, row['Lat'], row['Lng']))\n",
    "    return sum(distances)\n",
    "\n",
    "# Optimize to find the minimum total driving distance\n",
    "result_driving = opt.minimize(calc_cost_driving, initial_guess, args=(df,), method='SLSQP')\n",
    "\n",
    "# Get the optimal driving location address\n",
    "result_driving_address = gmaps.reverse_geocode((result_driving.x[0], result_driving.x[1]))[0]['formatted_address']\n",
    "\n",
    "print(f\"Driving Optimal Pickup Location: {result_driving_address} at coordinates {result_driving.x.round(4)}\")\n"
   ]
  },
  {
   "cell_type": "code",
   "execution_count": 33,
   "id": "695e88ca-4eea-4318-95a1-57ca2c250970",
   "metadata": {},
   "outputs": [
    {
     "name": "stdout",
     "output_type": "stream",
     "text": [
      "\n",
      "Cost using Haversine distance from optimal point: $ 22.30; Coordinates: [ 33.7793 -84.3702]; Address: 515 8th St NE, Atlanta, GA 30308, USA\n",
      "\n",
      "Cost using Driving distance from optimal point: $ 28.09; Coordinates: [ 33.7837 -84.3674]; Address: 600 Cresthill Ave NE, Atlanta, GA 30306, USA\n"
     ]
    }
   ],
   "source": [
    "# Initialize the map centered around the mean of all locations\n",
    "m = folium.Map(location=initial_guess, zoom_start=12)\n",
    "# Add markers for optimal locations\n",
    "folium.Marker(result.x, popup=result_address, icon=folium.Icon(color='orange')).add_to(m)  # Haversine optimal point\n",
    "folium.Marker(result_driving.x, popup=result_driving_address, icon=folium.Icon(color='green')).add_to(m)  # Driving optimal point\n",
    "# Add markers for all neighborhoods\n",
    "for i in range(len(df)):\n",
    "    folium.Marker([df['Lat'][i], df['Lng'][i]], popup=df['Location'][i]).add_to(m)\n",
    "# Draw driving paths from the driving optimal point to all neighborhoods\n",
    "for i in range(len(df)):\n",
    "    start = tuple(result_driving.x)\n",
    "    end = (df['Lat'][i], df['Lng'][i])\n",
    "\n",
    "    # Get directions from Google Maps API\n",
    "    directions = gmaps.directions(start, end, mode=\"driving\")\n",
    "\n",
    "    # Decode the polyline points from the API response\n",
    "    points = polyline.decode(directions[0]['overview_polyline']['points'])\n",
    "\n",
    "    # Add the driving path to the map\n",
    "    folium.PolyLine(locations=points, color='blue', weight=5).add_to(m)\n",
    "# Save the map as HTML\n",
    "m.save('C:\\\\Users\\\\17069\\\\Desktop\\\\Supply Chain\\\\atlanta_pickup_locations.html')\n",
    "print(f\"\\nCost using Haversine distance from optimal point: $ {result.fun:.2f}; Coordinates: {result.x.round(4)}; Address: {result_address}\")\n",
    "print(f\"\\nCost using Driving distance from optimal point: $ {result_driving.fun:.2f}; Coordinates: {result_driving.x.round(4)}; Address: {result_driving_address}\")\n"
   ]
  }
 ],
 "metadata": {
  "kernelspec": {
   "display_name": "Python 3 (ipykernel)",
   "language": "python",
   "name": "python3"
  },
  "language_info": {
   "codemirror_mode": {
    "name": "ipython",
    "version": 3
   },
   "file_extension": ".py",
   "mimetype": "text/x-python",
   "name": "python",
   "nbconvert_exporter": "python",
   "pygments_lexer": "ipython3",
   "version": "3.12.3"
  }
 },
 "nbformat": 4,
 "nbformat_minor": 5
}
